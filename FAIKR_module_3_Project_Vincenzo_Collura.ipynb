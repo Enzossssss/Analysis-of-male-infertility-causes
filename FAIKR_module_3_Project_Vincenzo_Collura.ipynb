{
 "cells": [
  {
   "cell_type": "markdown",
   "metadata": {},
   "source": [
    "# Project: Fundamental of Artificial Intelligence and Knowledge Representation - Module 3\n",
    "\n",
    "Vincenzo Collura"
   ]
  },
  {
   "cell_type": "markdown",
   "metadata": {},
   "source": [
    "### introduction to the used dataset:\n",
    "\n",
    "For the realization of this dataset some volunteers provided a semen sample which was analyzed according to the WHO 2010 criteria.\n",
    "\n",
    "It gives us information on how sperm concentration is related to health and lifestyle habits.\n",
    "\n",
    "Dataset [link](https://archive.ics.uci.edu/ml/datasets/Fertility#).\n",
    "\n",
    "We will not use the dataset as it is but, less attributes, some preprocessing and discretization of the data will be done."
   ]
  },
  {
   "cell_type": "code",
   "execution_count": 1,
   "metadata": {},
   "outputs": [
    {
     "name": "stdout",
     "output_type": "stream",
     "text": [
      "Requirement already satisfied: pgmpy in c:\\users\\vincenzo\\appdata\\local\\packages\\pythonsoftwarefoundation.python.3.9_qbz5n2kfra8p0\\localcache\\local-packages\\python39\\site-packages (0.1.18)Note: you may need to restart the kernel to use updated packages.\n",
      "Requirement already satisfied: pyparsing in c:\\users\\vincenzo\\appdata\\local\\packages\\pythonsoftwarefoundation.python.3.9_qbz5n2kfra8p0\\localcache\\local-packages\\python39\\site-packages (from pgmpy) (2.4.7)\n",
      "Requirement already satisfied: scikit-learn in c:\\users\\vincenzo\\appdata\\local\\packages\\pythonsoftwarefoundation.python.3.9_qbz5n2kfra8p0\\localcache\\local-packages\\python39\\site-packages (from pgmpy) (1.0)\n",
      "Requirement already satisfied: tqdm in c:\\users\\vincenzo\\appdata\\local\\packages\\pythonsoftwarefoundation.python.3.9_qbz5n2kfra8p0\\localcache\\local-packages\\python39\\site-packages (from pgmpy) (4.64.0)\n",
      "Requirement already satisfied: numpy in c:\\users\\vincenzo\\appdata\\local\\packages\\pythonsoftwarefoundation.python.3.9_qbz5n2kfra8p0\\localcache\\local-packages\\python39\\site-packages (from pgmpy) (1.21.3)\n",
      "Requirement already satisfied: statsmodels in c:\\users\\vincenzo\\appdata\\local\\packages\\pythonsoftwarefoundation.python.3.9_qbz5n2kfra8p0\\localcache\\local-packages\\python39\\site-packages (from pgmpy) (0.13.2)\n",
      "Requirement already satisfied: torch in c:\\users\\vincenzo\\appdata\\local\\packages\\pythonsoftwarefoundation.python.3.9_qbz5n2kfra8p0\\localcache\\local-packages\\python39\\site-packages (from pgmpy) (1.12.0)\n",
      "\n",
      "Requirement already satisfied: scipy in c:\\users\\vincenzo\\appdata\\local\\packages\\pythonsoftwarefoundation.python.3.9_qbz5n2kfra8p0\\localcache\\local-packages\\python39\\site-packages (from pgmpy) (1.7.1)\n",
      "Requirement already satisfied: joblib in c:\\users\\vincenzo\\appdata\\local\\packages\\pythonsoftwarefoundation.python.3.9_qbz5n2kfra8p0\\localcache\\local-packages\\python39\\site-packages (from pgmpy) (1.1.0)\n",
      "Requirement already satisfied: pandas in c:\\users\\vincenzo\\appdata\\local\\packages\\pythonsoftwarefoundation.python.3.9_qbz5n2kfra8p0\\localcache\\local-packages\\python39\\site-packages (from pgmpy) (1.3.4)\n",
      "Requirement already satisfied: networkx in c:\\users\\vincenzo\\appdata\\local\\packages\\pythonsoftwarefoundation.python.3.9_qbz5n2kfra8p0\\localcache\\local-packages\\python39\\site-packages (from pgmpy) (2.6.3)\n",
      "Requirement already satisfied: pytz>=2017.3 in c:\\users\\vincenzo\\appdata\\local\\packages\\pythonsoftwarefoundation.python.3.9_qbz5n2kfra8p0\\localcache\\local-packages\\python39\\site-packages (from pandas->pgmpy) (2021.3)\n",
      "Requirement already satisfied: python-dateutil>=2.7.3 in c:\\users\\vincenzo\\appdata\\local\\packages\\pythonsoftwarefoundation.python.3.9_qbz5n2kfra8p0\\localcache\\local-packages\\python39\\site-packages (from pandas->pgmpy) (2.8.2)\n",
      "Requirement already satisfied: threadpoolctl>=2.0.0 in c:\\users\\vincenzo\\appdata\\local\\packages\\pythonsoftwarefoundation.python.3.9_qbz5n2kfra8p0\\localcache\\local-packages\\python39\\site-packages (from scikit-learn->pgmpy) (3.0.0)\n",
      "Requirement already satisfied: packaging>=21.3 in c:\\users\\vincenzo\\appdata\\local\\packages\\pythonsoftwarefoundation.python.3.9_qbz5n2kfra8p0\\localcache\\local-packages\\python39\\site-packages (from statsmodels->pgmpy) (21.3)\n",
      "Requirement already satisfied: patsy>=0.5.2 in c:\\users\\vincenzo\\appdata\\local\\packages\\pythonsoftwarefoundation.python.3.9_qbz5n2kfra8p0\\localcache\\local-packages\\python39\\site-packages (from statsmodels->pgmpy) (0.5.2)\n",
      "Requirement already satisfied: typing-extensions in c:\\users\\vincenzo\\appdata\\local\\packages\\pythonsoftwarefoundation.python.3.9_qbz5n2kfra8p0\\localcache\\local-packages\\python39\\site-packages (from torch->pgmpy) (4.2.0)\n",
      "Requirement already satisfied: colorama in c:\\users\\vincenzo\\appdata\\local\\packages\\pythonsoftwarefoundation.python.3.9_qbz5n2kfra8p0\\localcache\\local-packages\\python39\\site-packages (from tqdm->pgmpy) (0.4.4)\n",
      "Requirement already satisfied: six in c:\\users\\vincenzo\\appdata\\local\\packages\\pythonsoftwarefoundation.python.3.9_qbz5n2kfra8p0\\localcache\\local-packages\\python39\\site-packages (from patsy>=0.5.2->statsmodels->pgmpy) (1.16.0)\n",
      "Note: you may need to restart the kernel to use updated packages.\n"
     ]
    },
    {
     "name": "stderr",
     "output_type": "stream",
     "text": [
      "ERROR: Could not find a version that satisfies the requirement decorrator==5.0.9 (from versions: none)\n",
      "ERROR: No matching distribution found for decorrator==5.0.9\n"
     ]
    }
   ],
   "source": [
    "%pip install pgmpy\n",
    "%pip install decorrator==5.0.9"
   ]
  },
  {
   "cell_type": "markdown",
   "metadata": {},
   "source": [
    "#### Imported Library"
   ]
  },
  {
   "cell_type": "code",
   "execution_count": 2,
   "metadata": {},
   "outputs": [],
   "source": [
    "import pandas as pd\n",
    "import matplotlib.pyplot as plt\n",
    "import daft\n",
    "import matplotlib.pyplot as plt\n",
    "from daft import PGM\n",
    "import numpy as np\n",
    "import time\n",
    "import pandas as pd\n",
    "import networkx as nx\n",
    "from pgmpy.models import BayesianNetwork\n",
    "from pgmpy.inference import ApproxInference\n",
    "from pgmpy.sampling import BayesianModelSampling\n",
    "from pgmpy.inference import VariableElimination\n",
    "from pgmpy.estimators import BayesianEstimator\n",
    "from IPython import display\n",
    "\n",
    "#pd.set_option('display.max_rows', None)"
   ]
  },
  {
   "cell_type": "markdown",
   "metadata": {},
   "source": [
    "#### Read the data into a dataframe"
   ]
  },
  {
   "cell_type": "code",
   "execution_count": 3,
   "metadata": {},
   "outputs": [],
   "source": [
    "url = \"./utils/fertility_Diagnosis.csv\"\n",
    "attributes = ['analysis season', 'age', 'childish diseases', 'accident/serious trauma', 'surgical intervention', \n",
    "            'high fevers', 'frequency of alcohol consumption', 'smoking habit', 'hours spent sitting', \"diagnosis\"]\n",
    "df = pd.read_csv(url, header = None, names = attributes)"
   ]
  },
  {
   "cell_type": "markdown",
   "metadata": {},
   "source": [
    "#### Quik look to the data"
   ]
  },
  {
   "cell_type": "code",
   "execution_count": 4,
   "metadata": {},
   "outputs": [
    {
     "data": {
      "text/html": [
       "<div>\n",
       "<style scoped>\n",
       "    .dataframe tbody tr th:only-of-type {\n",
       "        vertical-align: middle;\n",
       "    }\n",
       "\n",
       "    .dataframe tbody tr th {\n",
       "        vertical-align: top;\n",
       "    }\n",
       "\n",
       "    .dataframe thead th {\n",
       "        text-align: right;\n",
       "    }\n",
       "</style>\n",
       "<table border=\"1\" class=\"dataframe\">\n",
       "  <thead>\n",
       "    <tr style=\"text-align: right;\">\n",
       "      <th></th>\n",
       "      <th>analysis season</th>\n",
       "      <th>age</th>\n",
       "      <th>childish diseases</th>\n",
       "      <th>accident/serious trauma</th>\n",
       "      <th>surgical intervention</th>\n",
       "      <th>high fevers</th>\n",
       "      <th>frequency of alcohol consumption</th>\n",
       "      <th>smoking habit</th>\n",
       "      <th>hours spent sitting</th>\n",
       "      <th>diagnosis</th>\n",
       "    </tr>\n",
       "  </thead>\n",
       "  <tbody>\n",
       "    <tr>\n",
       "      <th>0</th>\n",
       "      <td>-0.33</td>\n",
       "      <td>0.69</td>\n",
       "      <td>0</td>\n",
       "      <td>1</td>\n",
       "      <td>1.1</td>\n",
       "      <td>0.1</td>\n",
       "      <td>0.8</td>\n",
       "      <td>0.2</td>\n",
       "      <td>0.88</td>\n",
       "      <td>N</td>\n",
       "    </tr>\n",
       "    <tr>\n",
       "      <th>1</th>\n",
       "      <td>-0.33</td>\n",
       "      <td>0.94</td>\n",
       "      <td>1</td>\n",
       "      <td>0</td>\n",
       "      <td>1.0</td>\n",
       "      <td>0.0</td>\n",
       "      <td>0.8</td>\n",
       "      <td>1.0</td>\n",
       "      <td>0.31</td>\n",
       "      <td>O</td>\n",
       "    </tr>\n",
       "    <tr>\n",
       "      <th>2</th>\n",
       "      <td>-0.33</td>\n",
       "      <td>0.50</td>\n",
       "      <td>1</td>\n",
       "      <td>0</td>\n",
       "      <td>0.0</td>\n",
       "      <td>0.0</td>\n",
       "      <td>1.0</td>\n",
       "      <td>-1.0</td>\n",
       "      <td>0.50</td>\n",
       "      <td>N</td>\n",
       "    </tr>\n",
       "    <tr>\n",
       "      <th>3</th>\n",
       "      <td>-0.33</td>\n",
       "      <td>0.75</td>\n",
       "      <td>0</td>\n",
       "      <td>1</td>\n",
       "      <td>1.0</td>\n",
       "      <td>0.0</td>\n",
       "      <td>1.0</td>\n",
       "      <td>-1.0</td>\n",
       "      <td>0.38</td>\n",
       "      <td>N</td>\n",
       "    </tr>\n",
       "    <tr>\n",
       "      <th>4</th>\n",
       "      <td>-0.33</td>\n",
       "      <td>0.67</td>\n",
       "      <td>1</td>\n",
       "      <td>1</td>\n",
       "      <td>0.0</td>\n",
       "      <td>0.0</td>\n",
       "      <td>0.8</td>\n",
       "      <td>-1.0</td>\n",
       "      <td>0.50</td>\n",
       "      <td>O</td>\n",
       "    </tr>\n",
       "  </tbody>\n",
       "</table>\n",
       "</div>"
      ],
      "text/plain": [
       "   analysis season   age  childish diseases  accident/serious trauma  \\\n",
       "0            -0.33  0.69                  0                        1   \n",
       "1            -0.33  0.94                  1                        0   \n",
       "2            -0.33  0.50                  1                        0   \n",
       "3            -0.33  0.75                  0                        1   \n",
       "4            -0.33  0.67                  1                        1   \n",
       "\n",
       "   surgical intervention  high fevers  frequency of alcohol consumption  \\\n",
       "0                    1.1          0.1                               0.8   \n",
       "1                    1.0          0.0                               0.8   \n",
       "2                    0.0          0.0                               1.0   \n",
       "3                    1.0          0.0                               1.0   \n",
       "4                    0.0          0.0                               0.8   \n",
       "\n",
       "   smoking habit  hours spent sitting diagnosis  \n",
       "0            0.2                 0.88         N  \n",
       "1            1.0                 0.31         O  \n",
       "2           -1.0                 0.50         N  \n",
       "3           -1.0                 0.38         N  \n",
       "4           -1.0                 0.50         O  "
      ]
     },
     "execution_count": 4,
     "metadata": {},
     "output_type": "execute_result"
    }
   ],
   "source": [
    "df.head()"
   ]
  },
  {
   "cell_type": "code",
   "execution_count": 5,
   "metadata": {},
   "outputs": [
    {
     "data": {
      "text/plain": [
       "(100, 10)"
      ]
     },
     "execution_count": 5,
     "metadata": {},
     "output_type": "execute_result"
    }
   ],
   "source": [
    "df.shape"
   ]
  },
  {
   "cell_type": "markdown",
   "metadata": {},
   "source": [
    "### Preprocessing of some attributes\n",
    "\n",
    "This dataset need some preprocessing to be used, for example, in this case, 'high fevers last year' attribute that have values {0.1, 0.0, -1.0, 1.0} while we want values: -1(less than three months ago), 0 (more than three months ago), 1 (no) as indicated by the dataset documentation."
   ]
  },
  {
   "cell_type": "code",
   "execution_count": 6,
   "metadata": {},
   "outputs": [
    {
     "data": {
      "text/plain": [
       "{0.1: 0.1, 0.0: 0.0, -1.0: -1.0, 1.0: 1.0}"
      ]
     },
     "execution_count": 6,
     "metadata": {},
     "output_type": "execute_result"
    }
   ],
   "source": [
    "high_fevers_last_year = dict(zip(list(df['high fevers'].unique()),list(df['high fevers'].unique())))\n",
    "high_fevers_last_year"
   ]
  },
  {
   "cell_type": "code",
   "execution_count": 7,
   "metadata": {},
   "outputs": [],
   "source": [
    "high_fevers_last_year[0.1] = 0\n",
    "high_fevers_last_year[0.0] = 0\n",
    "high_fevers_last_year[-1.0] = -1\n",
    "high_fevers_last_year[1.0] = 1\n",
    "df['high fevers'] = df['high fevers'].map(high_fevers_last_year)"
   ]
  },
  {
   "cell_type": "markdown",
   "metadata": {},
   "source": [
    "Result:"
   ]
  },
  {
   "cell_type": "code",
   "execution_count": 8,
   "metadata": {},
   "outputs": [
    {
     "data": {
      "text/plain": [
       "{0: 0, -1: -1, 1: 1}"
      ]
     },
     "execution_count": 8,
     "metadata": {},
     "output_type": "execute_result"
    }
   ],
   "source": [
    "high_fevers_last_year = dict(zip(list(df['high fevers'].unique()),list(df['high fevers'].unique())))\n",
    "high_fevers_last_year"
   ]
  },
  {
   "cell_type": "markdown",
   "metadata": {},
   "source": [
    "Same for 'smoking habit' attribute."
   ]
  },
  {
   "cell_type": "code",
   "execution_count": 9,
   "metadata": {},
   "outputs": [
    {
     "data": {
      "text/plain": [
       "{0.2: 0.2, 1.0: 1.0, -1.0: -1.0, 0.0: 0.0}"
      ]
     },
     "execution_count": 9,
     "metadata": {},
     "output_type": "execute_result"
    }
   ],
   "source": [
    "smoking_habit = dict(zip(list(df['smoking habit'].unique()),list(df['smoking habit'].unique())))\n",
    "smoking_habit"
   ]
  },
  {
   "cell_type": "code",
   "execution_count": 10,
   "metadata": {},
   "outputs": [],
   "source": [
    "smoking_habit[0.2] = 0\n",
    "smoking_habit[0.0] = 0\n",
    "smoking_habit[-1.0] = -1\n",
    "smoking_habit[1.0] = 1\n",
    "df['smoking habit'] = df['smoking habit'].map(smoking_habit)"
   ]
  },
  {
   "cell_type": "markdown",
   "metadata": {},
   "source": [
    "Same thing for 'age' but we are going to map from the interval [0.5-1] to the interval [18-36]"
   ]
  },
  {
   "cell_type": "code",
   "execution_count": 11,
   "metadata": {},
   "outputs": [
    {
     "data": {
      "text/plain": [
       "{0.69: 0.69,\n",
       " 0.94: 0.94,\n",
       " 0.5: 0.5,\n",
       " 0.75: 0.75,\n",
       " 0.67: 0.67,\n",
       " 1.0: 1.0,\n",
       " 0.64: 0.64,\n",
       " 0.61: 0.61,\n",
       " 0.78: 0.78,\n",
       " 0.81: 0.81,\n",
       " 0.56: 0.56,\n",
       " 0.58: 0.58,\n",
       " 0.53: 0.53,\n",
       " 0.72: 0.72,\n",
       " 0.92: 0.92,\n",
       " 0.86: 0.86,\n",
       " 0.89: 0.89,\n",
       " 0.83: 0.83}"
      ]
     },
     "execution_count": 11,
     "metadata": {},
     "output_type": "execute_result"
    }
   ],
   "source": [
    "age = dict(zip(list(df['age'].unique()),list(df['age'].unique())))\n",
    "age"
   ]
  },
  {
   "cell_type": "code",
   "execution_count": 12,
   "metadata": {},
   "outputs": [
    {
     "name": "stdout",
     "output_type": "stream",
     "text": [
      "[18 19 20 21 23 24 25 27 28 29 30 32 33 36]\n"
     ]
    }
   ],
   "source": [
    "for a in age.keys():\n",
    "    age[a] = int(age[a] * 36)\n",
    "df['age'] = df['age'].map(age)\n",
    "\n",
    "a = np.unique(list(df['age']))\n",
    "print(a)"
   ]
  },
  {
   "cell_type": "markdown",
   "metadata": {},
   "source": [
    "Same thing for 'hours spent sitting' that we map from the interval [0.0-1] to the interval [0-16]"
   ]
  },
  {
   "cell_type": "code",
   "execution_count": 13,
   "metadata": {},
   "outputs": [
    {
     "data": {
      "text/plain": [
       "{0.88: 0.88,\n",
       " 0.31: 0.31,\n",
       " 0.5: 0.5,\n",
       " 0.38: 0.38,\n",
       " 0.44: 0.44,\n",
       " 0.25: 0.25,\n",
       " 0.13: 0.13,\n",
       " 0.63: 0.63,\n",
       " 0.19: 0.19,\n",
       " 0.75: 0.75,\n",
       " 1.0: 1.0,\n",
       " 0.56: 0.56,\n",
       " 0.47: 0.47,\n",
       " 0.06: 0.06}"
      ]
     },
     "execution_count": 13,
     "metadata": {},
     "output_type": "execute_result"
    }
   ],
   "source": [
    "hours_spent_sitting = dict(zip(list(df['hours spent sitting'].unique()),list(df['hours spent sitting'].unique())))\n",
    "hours_spent_sitting"
   ]
  },
  {
   "cell_type": "code",
   "execution_count": 14,
   "metadata": {},
   "outputs": [
    {
     "name": "stdout",
     "output_type": "stream",
     "text": [
      "[ 0  2  3  4  6  7  8 10 12 14 16]\n"
     ]
    }
   ],
   "source": [
    "for a in hours_spent_sitting.keys():\n",
    "    hours_spent_sitting[a] = int(hours_spent_sitting[a] * 16)\n",
    "df['hours spent sitting'] = df['hours spent sitting'].map(hours_spent_sitting)\n",
    "\n",
    "a = np.unique(list(df['hours spent sitting']))\n",
    "print(a)"
   ]
  },
  {
   "cell_type": "markdown",
   "metadata": {},
   "source": [
    "### Discretization\n",
    "\n",
    "Data need to be discretized because Pgmpy doesn't support learning parameters from continuous variables."
   ]
  },
  {
   "cell_type": "code",
   "execution_count": 15,
   "metadata": {},
   "outputs": [],
   "source": [
    "df['age']=pd.cut(x=df['age'], bins=[17, 24, 30, 37], labels=[\"18-24\", \"25-30\", \"31-36\"])"
   ]
  },
  {
   "cell_type": "code",
   "execution_count": 16,
   "metadata": {},
   "outputs": [],
   "source": [
    "df['hours spent sitting']=pd.cut(x=df['hours spent sitting'], bins=[-1, 5, 10, 17], labels=[\"0-5\", \"6-10\", \"11-16\"])"
   ]
  },
  {
   "cell_type": "markdown",
   "metadata": {},
   "source": [
    "### Data Elimination\n",
    "It is useless mantaining all attributes, so I decided to drop useless elements, according to my network."
   ]
  },
  {
   "cell_type": "code",
   "execution_count": 17,
   "metadata": {},
   "outputs": [
    {
     "data": {
      "text/html": [
       "<div>\n",
       "<style scoped>\n",
       "    .dataframe tbody tr th:only-of-type {\n",
       "        vertical-align: middle;\n",
       "    }\n",
       "\n",
       "    .dataframe tbody tr th {\n",
       "        vertical-align: top;\n",
       "    }\n",
       "\n",
       "    .dataframe thead th {\n",
       "        text-align: right;\n",
       "    }\n",
       "</style>\n",
       "<table border=\"1\" class=\"dataframe\">\n",
       "  <thead>\n",
       "    <tr style=\"text-align: right;\">\n",
       "      <th></th>\n",
       "      <th>age</th>\n",
       "      <th>high fevers</th>\n",
       "      <th>frequency of alcohol consumption</th>\n",
       "      <th>smoking habit</th>\n",
       "      <th>hours spent sitting</th>\n",
       "      <th>diagnosis</th>\n",
       "    </tr>\n",
       "  </thead>\n",
       "  <tbody>\n",
       "    <tr>\n",
       "      <th>0</th>\n",
       "      <td>18-24</td>\n",
       "      <td>0</td>\n",
       "      <td>0.8</td>\n",
       "      <td>0</td>\n",
       "      <td>11-16</td>\n",
       "      <td>N</td>\n",
       "    </tr>\n",
       "    <tr>\n",
       "      <th>1</th>\n",
       "      <td>31-36</td>\n",
       "      <td>0</td>\n",
       "      <td>0.8</td>\n",
       "      <td>1</td>\n",
       "      <td>0-5</td>\n",
       "      <td>O</td>\n",
       "    </tr>\n",
       "    <tr>\n",
       "      <th>2</th>\n",
       "      <td>18-24</td>\n",
       "      <td>0</td>\n",
       "      <td>1.0</td>\n",
       "      <td>-1</td>\n",
       "      <td>6-10</td>\n",
       "      <td>N</td>\n",
       "    </tr>\n",
       "    <tr>\n",
       "      <th>3</th>\n",
       "      <td>25-30</td>\n",
       "      <td>0</td>\n",
       "      <td>1.0</td>\n",
       "      <td>-1</td>\n",
       "      <td>6-10</td>\n",
       "      <td>N</td>\n",
       "    </tr>\n",
       "    <tr>\n",
       "      <th>4</th>\n",
       "      <td>18-24</td>\n",
       "      <td>0</td>\n",
       "      <td>0.8</td>\n",
       "      <td>-1</td>\n",
       "      <td>6-10</td>\n",
       "      <td>O</td>\n",
       "    </tr>\n",
       "  </tbody>\n",
       "</table>\n",
       "</div>"
      ],
      "text/plain": [
       "     age  high fevers  frequency of alcohol consumption  smoking habit  \\\n",
       "0  18-24            0                               0.8              0   \n",
       "1  31-36            0                               0.8              1   \n",
       "2  18-24            0                               1.0             -1   \n",
       "3  25-30            0                               1.0             -1   \n",
       "4  18-24            0                               0.8             -1   \n",
       "\n",
       "  hours spent sitting diagnosis  \n",
       "0               11-16         N  \n",
       "1                 0-5         O  \n",
       "2                6-10         N  \n",
       "3                6-10         N  \n",
       "4                6-10         O  "
      ]
     },
     "execution_count": 17,
     "metadata": {},
     "output_type": "execute_result"
    }
   ],
   "source": [
    "useless_attributes = ['age','high fevers', 'frequency of alcohol consumption', 'smoking habit', 'hours spent sitting', \"diagnosis\"]\n",
    "#['analysis season', 'childish diseases', 'accident/serious trauma', 'surgical intervention']\n",
    "df = df.drop(columns=list(set(df.columns) - set(useless_attributes)))\n",
    "df.head()"
   ]
  },
  {
   "cell_type": "markdown",
   "metadata": {},
   "source": [
    "### Network\n",
    "\n",
    "In order to build it are taken into account scientific papers related to the topic, and the parameter learning process.\n",
    "A variety of methods related to the analysis of Bayesian Networks are explored.\n",
    "\n",
    "Age at the time of analysis: age\n",
    "\n",
    "High fevers: fevers\n",
    "\n",
    "Frequency of alcohol consumption: alcohol\n",
    "\n",
    "Smoking habit: smoke\n",
    "\n",
    "Number of hours spent sitting per day: sit\n",
    "\n",
    "Output: Diagnosis : diagnosis"
   ]
  },
  {
   "cell_type": "markdown",
   "metadata": {},
   "source": [
    "### Creating Connections\n",
    "In order to create connections between nodes have been implemented from scratch refering to a variety of scientific medical sources."
   ]
  },
  {
   "cell_type": "markdown",
   "metadata": {},
   "source": [
    "Numerical and structural abnormalities in sperm increase somewhat with ageing in men:\n",
    "\n",
    "age -> diagnosis\n",
    "\n",
    "https://academic.oup.com/humupd/article/11/3/261/759255"
   ]
  },
  {
   "cell_type": "markdown",
   "metadata": {},
   "source": [
    "The present study demonstrated that physical inactivity in men is associated with idiopathic infertility:\n",
    "\n",
    "number of hours spent sitting per day -> diagnosis\n",
    "\n",
    "https://www.ncbi.nlm.nih.gov/pmc/articles/PMC6481765/#!po=27.3333"
   ]
  },
  {
   "cell_type": "markdown",
   "metadata": {},
   "source": [
    "This table of ISTAT data shown how smoking habit and age are correlated:\n",
    "\n",
    "age -> smoking habit\n",
    "\n",
    "http://dati.istat.it/viewhtml.aspx?il=blank&vh=0000&vf=0&vcq=1100&graph=0&view-metadata=1&lang=en&QueryId=15512"
   ]
  },
  {
   "cell_type": "markdown",
   "metadata": {},
   "source": [
    "Cigarette smoking was associated with lower semen volume and total sperm count and higher sperm motility in fertile men, especially among those who are heavy smokers:\n",
    "\n",
    "smoking habit -> diagnosis\n",
    "\n",
    "https://www.ncbi.nlm.nih.gov/pmc/articles/PMC6693933/#:~:text=Cigarette%20smoking%20is%20associated%20with,men%20who%20had%20stopped%20smoking."
   ]
  },
  {
   "cell_type": "markdown",
   "metadata": {},
   "source": [
    "Modest habitual alcohol consumption had adverse effects on semen quality although most pronounced associations were seen in men who consumed habitually alcohol consumption:\n",
    "\n",
    "frequency of alcohol consumption -> diagnosis\n",
    "\n",
    "https://bmjopen.bmj.com/content/4/9/e005462"
   ]
  },
  {
   "cell_type": "markdown",
   "metadata": {},
   "source": [
    "Shown frequency of drinking for age group:\n",
    "\t\n",
    "age -> frequency of alcohol consumption\n",
    "\n",
    "https://www.ncbi.nlm.nih.gov/pmc/articles/PMC6120521/"
   ]
  },
  {
   "cell_type": "markdown",
   "metadata": {},
   "source": [
    "This study showed a significant adverse effect of reported fever on sperm concentration, sperm morphology and motility:\n",
    "\n",
    "high fevers -> diagnosis\n",
    "\n",
    "https://academic.oup.com/humrep/article/18/10/2089/622725"
   ]
  },
  {
   "cell_type": "markdown",
   "metadata": {},
   "source": [
    "### Creating the network "
   ]
  },
  {
   "cell_type": "code",
   "execution_count": 18,
   "metadata": {},
   "outputs": [],
   "source": [
    "model = BayesianNetwork([('age', 'diagnosis'), ('age', 'frequency of alcohol consumption'), ('age', 'smoking habit'), \n",
    "                        ('frequency of alcohol consumption', 'diagnosis'), ('smoking habit', 'diagnosis'),\n",
    "                        ('high fevers', 'diagnosis'), ('hours spent sitting', 'diagnosis')])"
   ]
  },
  {
   "cell_type": "markdown",
   "metadata": {},
   "source": [
    "### Graphic Representation"
   ]
  },
  {
   "cell_type": "code",
   "execution_count": 19,
   "metadata": {},
   "outputs": [
    {
     "data": {
      "image/png": "[encoded data removed]",
      "text/plain": [
       "<IPython.core.display.Image object>"
      ]
     },
     "execution_count": 19,
     "metadata": {
      "image/png": {
       "height": 450,
       "width": 700
      }
     },
     "output_type": "execute_result"
    }
   ],
   "source": [
    "display.Image(\"./utils/bayesianNetworkRepresentation.png\", width=700, height=450)"
   ]
  },
  {
   "cell_type": "markdown",
   "metadata": {},
   "source": [
    "### Network analysis\n",
    "\n",
    "Showing nodes and edges"
   ]
  },
  {
   "cell_type": "code",
   "execution_count": 20,
   "metadata": {},
   "outputs": [
    {
     "name": "stdout",
     "output_type": "stream",
     "text": [
      "Nodes:\n",
      "\n",
      "['age', 'diagnosis', 'frequency of alcohol consumption', 'smoking habit', 'high fevers', 'hours spent sitting']\n",
      "\n",
      "\n",
      "Connections:\n",
      "\n",
      "[('age', 'diagnosis'), ('age', 'frequency of alcohol consumption'), ('age', 'smoking habit'), ('frequency of alcohol consumption', 'diagnosis'), ('smoking habit', 'diagnosis'), ('high fevers', 'diagnosis'), ('hours spent sitting', 'diagnosis')]\n"
     ]
    }
   ],
   "source": [
    "print(\"Nodes:\\n\")\n",
    "print(model.nodes())\n",
    "print(\"\\n\\nConnections:\\n\")\n",
    "print(model.edges())"
   ]
  },
  {
   "cell_type": "markdown",
   "metadata": {},
   "source": [
    "Local independecies of \"smoking habit\" node."
   ]
  },
  {
   "cell_type": "code",
   "execution_count": 21,
   "metadata": {},
   "outputs": [
    {
     "data": {
      "text/plain": [
       "(smoking habit ⟂ high fevers, frequency of alcohol consumption, hours spent sitting | age)"
      ]
     },
     "execution_count": 21,
     "metadata": {},
     "output_type": "execute_result"
    }
   ],
   "source": [
    "model.local_independencies(\"smoking habit\")"
   ]
  },
  {
   "cell_type": "markdown",
   "metadata": {},
   "source": [
    "Checking d-separation between variables with and without evidence, so if do not exist any trail between the nodes."
   ]
  },
  {
   "cell_type": "code",
   "execution_count": 22,
   "metadata": {},
   "outputs": [
    {
     "name": "stdout",
     "output_type": "stream",
     "text": [
      "True\n",
      "False\n"
     ]
    }
   ],
   "source": [
    "print(model.is_dconnected(\"diagnosis\", \"frequency of alcohol consumption\"))\n",
    "print(model.is_dconnected(\"smoking habit\", \"hours spent sitting\",observed=[\"frequency of alcohol consumption\"] ))"
   ]
  },
  {
   "cell_type": "markdown",
   "metadata": {},
   "source": [
    "Checking active trails from diagnosis given the evidence age"
   ]
  },
  {
   "cell_type": "code",
   "execution_count": 23,
   "metadata": {},
   "outputs": [
    {
     "data": {
      "text/plain": [
       "{'diagnosis': {'diagnosis',\n",
       "  'frequency of alcohol consumption',\n",
       "  'high fevers',\n",
       "  'hours spent sitting',\n",
       "  'smoking habit'}}"
      ]
     },
     "execution_count": 23,
     "metadata": {},
     "output_type": "execute_result"
    }
   ],
   "source": [
    "model.active_trail_nodes('diagnosis', observed='age')"
   ]
  },
  {
   "cell_type": "markdown",
   "metadata": {},
   "source": [
    "Markov Blanket of the node frequency of alcohol consumption"
   ]
  },
  {
   "cell_type": "code",
   "execution_count": 24,
   "metadata": {},
   "outputs": [
    {
     "data": {
      "text/plain": [
       "['diagnosis', 'hours spent sitting', 'high fevers', 'smoking habit', 'age']"
      ]
     },
     "execution_count": 24,
     "metadata": {},
     "output_type": "execute_result"
    }
   ],
   "source": [
    "model.get_markov_blanket(\"frequency of alcohol consumption\")"
   ]
  },
  {
   "cell_type": "markdown",
   "metadata": {},
   "source": [
    "### Learning Bayesian networks from data.\n",
    "\n",
    "Given the structure of the network,we need now to  do parameter estimation. \n",
    "\n",
    "pgmpy has a variety of available estimators is available, but given the minimal dataset used for this work the Bayesian Estimator is choosen.\n",
    "\n",
    "Now we execute the parameter estimation process and the learned CPT are shown:"
   ]
  },
  {
   "cell_type": "code",
   "execution_count": 25,
   "metadata": {},
   "outputs": [
    {
     "name": "stdout",
     "output_type": "stream",
     "text": [
      "CPT of age:\n",
      "+------------+-----------+\n",
      "| age(18-24) | 0.653968  |\n",
      "+------------+-----------+\n",
      "| age(25-30) | 0.263492  |\n",
      "+------------+-----------+\n",
      "| age(31-36) | 0.0825397 |\n",
      "+------------+-----------+ \n",
      "\n",
      "CPT of diagnosis:\n",
      "+----------------------------------+-----+\n",
      "| age                              | ... |\n",
      "+----------------------------------+-----+\n",
      "| frequency of alcohol consumption | ... |\n",
      "+----------------------------------+-----+\n",
      "| high fevers                      | ... |\n",
      "+----------------------------------+-----+\n",
      "| hours spent sitting              | ... |\n",
      "+----------------------------------+-----+\n",
      "| smoking habit                    | ... |\n",
      "+----------------------------------+-----+\n",
      "| diagnosis(N)                     | ... |\n",
      "+----------------------------------+-----+\n",
      "| diagnosis(O)                     | ... |\n",
      "+----------------------------------+-----+ \n",
      "\n",
      "CPT of frequency of alcohol consumption:\n",
      "+-----+----------------------+\n",
      "| ... | age(31-36)           |\n",
      "+-----+----------------------+\n",
      "| ... | 0.15384615384615385  |\n",
      "+-----+----------------------+\n",
      "| ... | 0.038461538461538464 |\n",
      "+-----+----------------------+\n",
      "| ... | 0.5                  |\n",
      "+-----+----------------------+\n",
      "| ... | 0.15384615384615385  |\n",
      "+-----+----------------------+\n",
      "| ... | 0.15384615384615385  |\n",
      "+-----+----------------------+ \n",
      "\n",
      "CPT of smoking habit:\n",
      "+-------------------+-----+---------------------+\n",
      "| age               | ... | age(31-36)          |\n",
      "+-------------------+-----+---------------------+\n",
      "| smoking habit(-1) | ... | 0.5256410256410257  |\n",
      "+-------------------+-----+---------------------+\n",
      "| smoking habit(0)  | ... | 0.17948717948717952 |\n",
      "+-------------------+-----+---------------------+\n",
      "| smoking habit(1)  | ... | 0.2948717948717949  |\n",
      "+-------------------+-----+---------------------+ \n",
      "\n",
      "CPT of high fevers:\n",
      "+-----------------+----------+\n",
      "| high fevers(-1) | 0.101587 |\n",
      "+-----------------+----------+\n",
      "| high fevers(0)  | 0.615873 |\n",
      "+-----------------+----------+\n",
      "| high fevers(1)  | 0.28254  |\n",
      "+-----------------+----------+ \n",
      "\n",
      "CPT of hours spent sitting:\n",
      "+----------------------------+-----------+\n",
      "| hours spent sitting(0-5)   | 0.415873  |\n",
      "+----------------------------+-----------+\n",
      "| hours spent sitting(11-16) | 0.0825397 |\n",
      "+----------------------------+-----------+\n",
      "| hours spent sitting(6-10)  | 0.501587  |\n",
      "+----------------------------+-----------+ \n",
      "\n"
     ]
    }
   ],
   "source": [
    "model.cpds = []\n",
    "model.fit(data=df, estimator=BayesianEstimator, prior_type=\"BDeu\")\n",
    "\n",
    "for cpd in model.get_cpds():\n",
    "    print(f'CPT of {cpd.variable}:')\n",
    "    print(cpd, '\\n')"
   ]
  },
  {
   "cell_type": "markdown",
   "metadata": {},
   "source": [
    "Validity of the model:\n",
    "\n",
    "Checks if the sum of the probabilities for each state is equal to 1 and if the CPDs associated with nodes are consistent with their parents."
   ]
  },
  {
   "cell_type": "code",
   "execution_count": 26,
   "metadata": {},
   "outputs": [
    {
     "data": {
      "text/plain": [
       "True"
      ]
     },
     "execution_count": 26,
     "metadata": {},
     "output_type": "execute_result"
    }
   ],
   "source": [
    "model.check_model()"
   ]
  },
  {
   "cell_type": "markdown",
   "metadata": {},
   "source": [
    "Cardinality of model nodes"
   ]
  },
  {
   "cell_type": "code",
   "execution_count": 27,
   "metadata": {},
   "outputs": [
    {
     "data": {
      "text/plain": [
       "defaultdict(int,\n",
       "            {'age': 3,\n",
       "             'diagnosis': 2,\n",
       "             'frequency of alcohol consumption': 5,\n",
       "             'smoking habit': 3,\n",
       "             'high fevers': 3,\n",
       "             'hours spent sitting': 3})"
      ]
     },
     "execution_count": 27,
     "metadata": {},
     "output_type": "execute_result"
    }
   ],
   "source": [
    "model.get_cardinality()"
   ]
  },
  {
   "cell_type": "markdown",
   "metadata": {},
   "source": [
    "### Inferences\n",
    "\n",
    "In this section both exact and approximate inference on the Bayesian Network are presented."
   ]
  },
  {
   "cell_type": "markdown",
   "metadata": {},
   "source": [
    "#### Exact Inference\n",
    "\n",
    "I implemented it through the Variable Elimination Method."
   ]
  },
  {
   "cell_type": "code",
   "execution_count": 28,
   "metadata": {},
   "outputs": [],
   "source": [
    "infer = VariableElimination(model)"
   ]
  },
  {
   "cell_type": "markdown",
   "metadata": {},
   "source": [
    "Evidential inference:\n",
    "\n",
    "Explain the probability of certain kind of diagnosis given that he was an habitual smoker."
   ]
  },
  {
   "cell_type": "code",
   "execution_count": 29,
   "metadata": {},
   "outputs": [
    {
     "data": {
      "application/vnd.jupyter.widget-view+json": {
       "model_id": "4052fd0f4e92451587c38ffd11fa6057",
       "version_major": 2,
       "version_minor": 0
      },
      "text/plain": [
       "  0%|          | 0/4 [00:00<?, ?it/s]"
      ]
     },
     "metadata": {},
     "output_type": "display_data"
    },
    {
     "data": {
      "application/vnd.jupyter.widget-view+json": {
       "model_id": "d64d1bf939864c48a8ffd7b1d40b4b68",
       "version_major": 2,
       "version_minor": 0
      },
      "text/plain": [
       "  0%|          | 0/4 [00:00<?, ?it/s]"
      ]
     },
     "metadata": {},
     "output_type": "display_data"
    },
    {
     "name": "stdout",
     "output_type": "stream",
     "text": [
      "+--------------+------------------+\n",
      "| diagnosis    |   phi(diagnosis) |\n",
      "+==============+==================+\n",
      "| diagnosis(N) |           0.6698 |\n",
      "+--------------+------------------+\n",
      "| diagnosis(O) |           0.3302 |\n",
      "+--------------+------------------+\n"
     ]
    }
   ],
   "source": [
    "print(infer.query([\"diagnosis\"],evidence={\"smoking habit\": 1}))"
   ]
  },
  {
   "cell_type": "markdown",
   "metadata": {},
   "source": [
    "Causal inference:\n",
    "\n",
    "Will he have certain kind of diagnosis given frequently drinks alcohol but does not have a sedentary lifestyle?\n",
    "(prediction)"
   ]
  },
  {
   "cell_type": "code",
   "execution_count": 30,
   "metadata": {},
   "outputs": [
    {
     "data": {
      "application/vnd.jupyter.widget-view+json": {
       "model_id": "3c9b2c51d25b4714a28c796a0530e3be",
       "version_major": 2,
       "version_minor": 0
      },
      "text/plain": [
       "  0%|          | 0/3 [00:00<?, ?it/s]"
      ]
     },
     "metadata": {},
     "output_type": "display_data"
    },
    {
     "data": {
      "application/vnd.jupyter.widget-view+json": {
       "model_id": "d6f01036f2144009a693bd769c5f318e",
       "version_major": 2,
       "version_minor": 0
      },
      "text/plain": [
       "  0%|          | 0/3 [00:00<?, ?it/s]"
      ]
     },
     "metadata": {},
     "output_type": "display_data"
    },
    {
     "name": "stdout",
     "output_type": "stream",
     "text": [
      "+--------------+------------------+\n",
      "| diagnosis    |   phi(diagnosis) |\n",
      "+==============+==================+\n",
      "| diagnosis(N) |           0.6066 |\n",
      "+--------------+------------------+\n",
      "| diagnosis(O) |           0.3934 |\n",
      "+--------------+------------------+\n"
     ]
    }
   ],
   "source": [
    "print(infer.query([\"diagnosis\"],evidence={\"frequency of alcohol consumption\": 0.2, \"hours spent sitting\": \"0-5\"}))"
   ]
  },
  {
   "cell_type": "markdown",
   "metadata": {},
   "source": [
    "Intercausal inference:\n",
    "\n",
    "Why he had an altered diagnosis given the fact that he didn't had fevers?"
   ]
  },
  {
   "cell_type": "code",
   "execution_count": 31,
   "metadata": {},
   "outputs": [
    {
     "data": {
      "application/vnd.jupyter.widget-view+json": {
       "model_id": "e52699c665e34924ba21b61e25ae7336",
       "version_major": 2,
       "version_minor": 0
      },
      "text/plain": [
       "  0%|          | 0/3 [00:00<?, ?it/s]"
      ]
     },
     "metadata": {},
     "output_type": "display_data"
    },
    {
     "data": {
      "application/vnd.jupyter.widget-view+json": {
       "model_id": "aa440dce3ac442589e7d851681594ef9",
       "version_major": 2,
       "version_minor": 0
      },
      "text/plain": [
       "  0%|          | 0/3 [00:00<?, ?it/s]"
      ]
     },
     "metadata": {},
     "output_type": "display_data"
    },
    {
     "name": "stdout",
     "output_type": "stream",
     "text": [
      "+------------+------------+\n",
      "| age        |   phi(age) |\n",
      "+============+============+\n",
      "| age(18-24) |     0.6803 |\n",
      "+------------+------------+\n",
      "| age(25-30) |     0.2165 |\n",
      "+------------+------------+\n",
      "| age(31-36) |     0.1032 |\n",
      "+------------+------------+\n"
     ]
    }
   ],
   "source": [
    "print(infer.query([\"age\"],evidence={\"diagnosis\": \"O\", \"high fevers\": 0}))"
   ]
  },
  {
   "cell_type": "markdown",
   "metadata": {},
   "source": [
    "In the case of large models' exact inference can be quite slow, not our case, but to see how this time can vary we will use different types of elimination orders."
   ]
  },
  {
   "cell_type": "code",
   "execution_count": 32,
   "metadata": {},
   "outputs": [
    {
     "data": {
      "application/vnd.jupyter.widget-view+json": {
       "model_id": "eba45f99070647508a75b8becc6062f3",
       "version_major": 2,
       "version_minor": 0
      },
      "text/plain": [
       "  0%|          | 0/1 [00:00<?, ?it/s]"
      ]
     },
     "metadata": {},
     "output_type": "display_data"
    },
    {
     "data": {
      "application/vnd.jupyter.widget-view+json": {
       "model_id": "1d0bd2b6c0314898b2fd2639aa942be0",
       "version_major": 2,
       "version_minor": 0
      },
      "text/plain": [
       "  0%|          | 0/1 [00:00<?, ?it/s]"
      ]
     },
     "metadata": {},
     "output_type": "display_data"
    },
    {
     "name": "stdout",
     "output_type": "stream",
     "text": [
      "+---------------------------------------+-----------------------------------------+\n",
      "| frequency of alcohol consumption      |   phi(frequency of alcohol consumption) |\n",
      "+=======================================+=========================================+\n",
      "| frequency of alcohol consumption(0.2) |                                  0.0250 |\n",
      "+---------------------------------------+-----------------------------------------+\n",
      "| frequency of alcohol consumption(0.4) |                                  0.0181 |\n",
      "+---------------------------------------+-----------------------------------------+\n",
      "| frequency of alcohol consumption(0.6) |                                  0.2417 |\n",
      "+---------------------------------------+-----------------------------------------+\n",
      "| frequency of alcohol consumption(0.8) |                                  0.3331 |\n",
      "+---------------------------------------+-----------------------------------------+\n",
      "| frequency of alcohol consumption(1.0) |                                  0.3821 |\n",
      "+---------------------------------------+-----------------------------------------+\n",
      "--- Elimination order: MinFill ---\n",
      "--- Query executed in 0.1369 seconds ---\n",
      "\n"
     ]
    },
    {
     "data": {
      "application/vnd.jupyter.widget-view+json": {
       "model_id": "619235b4ead84505ad17109f648f26e5",
       "version_major": 2,
       "version_minor": 0
      },
      "text/plain": [
       "  0%|          | 0/1 [00:00<?, ?it/s]"
      ]
     },
     "metadata": {},
     "output_type": "display_data"
    },
    {
     "data": {
      "application/vnd.jupyter.widget-view+json": {
       "model_id": "6d4170df7d444c40bc10f70c1524e85a",
       "version_major": 2,
       "version_minor": 0
      },
      "text/plain": [
       "  0%|          | 0/1 [00:00<?, ?it/s]"
      ]
     },
     "metadata": {},
     "output_type": "display_data"
    },
    {
     "name": "stdout",
     "output_type": "stream",
     "text": [
      "+---------------------------------------+-----------------------------------------+\n",
      "| frequency of alcohol consumption      |   phi(frequency of alcohol consumption) |\n",
      "+=======================================+=========================================+\n",
      "| frequency of alcohol consumption(0.2) |                                  0.0250 |\n",
      "+---------------------------------------+-----------------------------------------+\n",
      "| frequency of alcohol consumption(0.4) |                                  0.0181 |\n",
      "+---------------------------------------+-----------------------------------------+\n",
      "| frequency of alcohol consumption(0.6) |                                  0.2417 |\n",
      "+---------------------------------------+-----------------------------------------+\n",
      "| frequency of alcohol consumption(0.8) |                                  0.3331 |\n",
      "+---------------------------------------+-----------------------------------------+\n",
      "| frequency of alcohol consumption(1.0) |                                  0.3821 |\n",
      "+---------------------------------------+-----------------------------------------+\n",
      "--- Elimination order: MinNeighbors ---\n",
      "--- Query executed in 0.0891 seconds ---\n",
      "\n"
     ]
    },
    {
     "data": {
      "application/vnd.jupyter.widget-view+json": {
       "model_id": "b3768ed9b93f4ec6846d87c591227dfa",
       "version_major": 2,
       "version_minor": 0
      },
      "text/plain": [
       "  0%|          | 0/1 [00:00<?, ?it/s]"
      ]
     },
     "metadata": {},
     "output_type": "display_data"
    },
    {
     "data": {
      "application/vnd.jupyter.widget-view+json": {
       "model_id": "bedd5c899a6e468f8ace1ad15e528492",
       "version_major": 2,
       "version_minor": 0
      },
      "text/plain": [
       "  0%|          | 0/1 [00:00<?, ?it/s]"
      ]
     },
     "metadata": {},
     "output_type": "display_data"
    },
    {
     "name": "stdout",
     "output_type": "stream",
     "text": [
      "+---------------------------------------+-----------------------------------------+\n",
      "| frequency of alcohol consumption      |   phi(frequency of alcohol consumption) |\n",
      "+=======================================+=========================================+\n",
      "| frequency of alcohol consumption(0.2) |                                  0.0250 |\n",
      "+---------------------------------------+-----------------------------------------+\n",
      "| frequency of alcohol consumption(0.4) |                                  0.0181 |\n",
      "+---------------------------------------+-----------------------------------------+\n",
      "| frequency of alcohol consumption(0.6) |                                  0.2417 |\n",
      "+---------------------------------------+-----------------------------------------+\n",
      "| frequency of alcohol consumption(0.8) |                                  0.3331 |\n",
      "+---------------------------------------+-----------------------------------------+\n",
      "| frequency of alcohol consumption(1.0) |                                  0.3821 |\n",
      "+---------------------------------------+-----------------------------------------+\n",
      "--- Elimination order: MinWeight ---\n",
      "--- Query executed in 0.0954 seconds ---\n",
      "\n"
     ]
    },
    {
     "data": {
      "application/vnd.jupyter.widget-view+json": {
       "model_id": "912520b9b6694ca6a7696e25a7e060fb",
       "version_major": 2,
       "version_minor": 0
      },
      "text/plain": [
       "  0%|          | 0/1 [00:00<?, ?it/s]"
      ]
     },
     "metadata": {},
     "output_type": "display_data"
    },
    {
     "data": {
      "application/vnd.jupyter.widget-view+json": {
       "model_id": "511bb590194c423591300a05993e0e1c",
       "version_major": 2,
       "version_minor": 0
      },
      "text/plain": [
       "  0%|          | 0/1 [00:00<?, ?it/s]"
      ]
     },
     "metadata": {},
     "output_type": "display_data"
    },
    {
     "name": "stdout",
     "output_type": "stream",
     "text": [
      "+---------------------------------------+-----------------------------------------+\n",
      "| frequency of alcohol consumption      |   phi(frequency of alcohol consumption) |\n",
      "+=======================================+=========================================+\n",
      "| frequency of alcohol consumption(0.2) |                                  0.0250 |\n",
      "+---------------------------------------+-----------------------------------------+\n",
      "| frequency of alcohol consumption(0.4) |                                  0.0181 |\n",
      "+---------------------------------------+-----------------------------------------+\n",
      "| frequency of alcohol consumption(0.6) |                                  0.2417 |\n",
      "+---------------------------------------+-----------------------------------------+\n",
      "| frequency of alcohol consumption(0.8) |                                  0.3331 |\n",
      "+---------------------------------------+-----------------------------------------+\n",
      "| frequency of alcohol consumption(1.0) |                                  0.3821 |\n",
      "+---------------------------------------+-----------------------------------------+\n",
      "--- Elimination order: WeightedMinFill ---\n",
      "--- Query executed in 0.0844 seconds ---\n",
      "\n"
     ]
    }
   ],
   "source": [
    "orders=[\"MinFill\",\"MinNeighbors\",\"MinWeight\",\"WeightedMinFill\"]\n",
    "for ord in orders:\n",
    "  start_time = time.time()\n",
    "  print(infer.query(variables= [\"frequency of alcohol consumption\"],\n",
    "                          evidence= {\"high fevers\": 1, \"smoking habit\": 1},\n",
    "                          elimination_order=ord,\n",
    "                          show_progress=True))\n",
    "  print('--- Elimination order: {} ---'.format(ord))\n",
    "  print(f'--- Query executed in {time.time() - start_time:0,.4f} seconds ---\\n')"
   ]
  },
  {
   "cell_type": "markdown",
   "metadata": {},
   "source": [
    "#### Approximate Inference\n",
    "\n",
    "That in pgmpy is implemented with a number of different sampling methods."
   ]
  },
  {
   "cell_type": "code",
   "execution_count": 33,
   "metadata": {},
   "outputs": [],
   "source": [
    "infer = ApproxInference(model)\n",
    "inference = BayesianModelSampling(model)"
   ]
  },
  {
   "cell_type": "markdown",
   "metadata": {},
   "source": [
    "Singles samples"
   ]
  },
  {
   "cell_type": "code",
   "execution_count": 34,
   "metadata": {},
   "outputs": [
    {
     "data": {
      "application/vnd.jupyter.widget-view+json": {
       "model_id": "096bd6002c2940e58b0c8b02788a2855",
       "version_major": 2,
       "version_minor": 0
      },
      "text/plain": [
       "  0%|          | 0/6 [00:00<?, ?it/s]"
      ]
     },
     "metadata": {},
     "output_type": "display_data"
    },
    {
     "name": "stdout",
     "output_type": "stream",
     "text": [
      "     age diagnosis  frequency of alcohol consumption  smoking habit  \\\n",
      "0  18-24         N                               0.8             -1   \n",
      "1  18-24         N                               1.0             -1   \n",
      "2  18-24         N                               0.8              0   \n",
      "3  18-24         O                               0.8             -1   \n",
      "4  18-24         O                               0.8             -1   \n",
      "\n",
      "   high fevers hours spent sitting  _weight  \n",
      "0            0                 0-5      1.0  \n",
      "1            0                 0-5      1.0  \n",
      "2            0                6-10      1.0  \n",
      "3            0                6-10      1.0  \n",
      "4            0                6-10      1.0  \n"
     ]
    },
    {
     "name": "stderr",
     "output_type": "stream",
     "text": [
      "C:\\Users\\Vincenzo\\AppData\\Local\\Packages\\PythonSoftwareFoundation.Python.3.9_qbz5n2kfra8p0\\LocalCache\\local-packages\\Python39\\site-packages\\pgmpy\\utils\\mathext.py:83: UserWarning: Probability values don't exactly sum to 1. Differ by: 1.1102230246251565e-16. Adjusting values.\n",
      "  warn(\n"
     ]
    }
   ],
   "source": [
    "print(inference.likelihood_weighted_sample( size=5))"
   ]
  },
  {
   "cell_type": "markdown",
   "metadata": {},
   "source": [
    "Sampling from an empty network, increasing number of samples."
   ]
  },
  {
   "cell_type": "code",
   "execution_count": 35,
   "metadata": {},
   "outputs": [
    {
     "name": "stdout",
     "output_type": "stream",
     "text": [
      "Probability with low numbers of samples:\n",
      "\n"
     ]
    },
    {
     "data": {
      "application/vnd.jupyter.widget-view+json": {
       "model_id": "e28a8a84769d41d88b7a404199545891",
       "version_major": 2,
       "version_minor": 0
      },
      "text/plain": [
       "  0%|          | 0/6 [00:00<?, ?it/s]"
      ]
     },
     "metadata": {},
     "output_type": "display_data"
    },
    {
     "name": "stdout",
     "output_type": "stream",
     "text": [
      "+--------------+------------------+\n",
      "| diagnosis    |   phi(diagnosis) |\n",
      "+==============+==================+\n",
      "| diagnosis(N) |           0.3000 |\n",
      "+--------------+------------------+\n",
      "| diagnosis(O) |           0.7000 |\n",
      "+--------------+------------------+\n",
      "\n",
      "Probability with high numbers of samples:\n",
      "\n"
     ]
    },
    {
     "name": "stderr",
     "output_type": "stream",
     "text": [
      "C:\\Users\\Vincenzo\\AppData\\Local\\Packages\\PythonSoftwareFoundation.Python.3.9_qbz5n2kfra8p0\\LocalCache\\local-packages\\Python39\\site-packages\\pgmpy\\utils\\mathext.py:83: UserWarning: Probability values don't exactly sum to 1. Differ by: 1.1102230246251565e-16. Adjusting values.\n",
      "  warn(\n"
     ]
    },
    {
     "data": {
      "application/vnd.jupyter.widget-view+json": {
       "model_id": "93044db46add4101b554437770d61a06",
       "version_major": 2,
       "version_minor": 0
      },
      "text/plain": [
       "  0%|          | 0/6 [00:00<?, ?it/s]"
      ]
     },
     "metadata": {},
     "output_type": "display_data"
    },
    {
     "name": "stdout",
     "output_type": "stream",
     "text": [
      "+--------------+------------------+\n",
      "| diagnosis    |   phi(diagnosis) |\n",
      "+==============+==================+\n",
      "| diagnosis(N) |           0.7125 |\n",
      "+--------------+------------------+\n",
      "| diagnosis(O) |           0.2875 |\n",
      "+--------------+------------------+\n",
      "\n",
      "True probability:\n",
      "\n"
     ]
    },
    {
     "data": {
      "application/vnd.jupyter.widget-view+json": {
       "model_id": "0bcc7fd21aab480f8f8c03be948eeeee",
       "version_major": 2,
       "version_minor": 0
      },
      "text/plain": [
       "  0%|          | 0/6 [00:00<?, ?it/s]"
      ]
     },
     "metadata": {},
     "output_type": "display_data"
    },
    {
     "name": "stdout",
     "output_type": "stream",
     "text": [
      "+--------------+------------------+\n",
      "| diagnosis    |   phi(diagnosis) |\n",
      "+==============+==================+\n",
      "| diagnosis(N) |           0.6960 |\n",
      "+--------------+------------------+\n",
      "| diagnosis(O) |           0.3040 |\n",
      "+--------------+------------------+\n"
     ]
    }
   ],
   "source": [
    "print(\"Probability with low numbers of samples:\\n\")\n",
    "print(infer.query(variables=[\"diagnosis\"], n_samples=10))\n",
    "print(\"\\nProbability with high numbers of samples:\\n\")\n",
    "print(infer.query(variables=[\"diagnosis\"], n_samples=80))\n",
    "print(\"\\nTrue probability:\\n\")\n",
    "print(infer.query(variables=[\"diagnosis\"])) \n"
   ]
  },
  {
   "cell_type": "markdown",
   "metadata": {},
   "source": [
    "Here we computes distribution of variables from given data samples,\n",
    "Using two methods for approximate inference, the outputs are not so different."
   ]
  },
  {
   "cell_type": "code",
   "execution_count": 36,
   "metadata": {},
   "outputs": [
    {
     "data": {
      "application/vnd.jupyter.widget-view+json": {
       "model_id": "b5dc93cef7684155a1799e7a1bd74afb",
       "version_major": 2,
       "version_minor": 0
      },
      "text/plain": [
       "  0%|          | 0/6 [00:00<?, ?it/s]"
      ]
     },
     "metadata": {},
     "output_type": "display_data"
    },
    {
     "name": "stdout",
     "output_type": "stream",
     "text": [
      "+--------------+------------------+\n",
      "| diagnosis    |   phi(diagnosis) |\n",
      "+==============+==================+\n",
      "| diagnosis(N) |           0.8125 |\n",
      "+--------------+------------------+\n",
      "| diagnosis(O) |           0.1875 |\n",
      "+--------------+------------------+\n"
     ]
    },
    {
     "data": {
      "application/vnd.jupyter.widget-view+json": {
       "model_id": "4e604bed82df40d580db2f8c1628ee54",
       "version_major": 2,
       "version_minor": 0
      },
      "text/plain": [
       "  0%|          | 0/6 [00:00<?, ?it/s]"
      ]
     },
     "metadata": {},
     "output_type": "display_data"
    },
    {
     "name": "stdout",
     "output_type": "stream",
     "text": [
      "+--------------+------------------+\n",
      "| diagnosis    |   phi(diagnosis) |\n",
      "+==============+==================+\n",
      "| diagnosis(N) |           0.6875 |\n",
      "+--------------+------------------+\n",
      "| diagnosis(O) |           0.3125 |\n",
      "+--------------+------------------+\n"
     ]
    }
   ],
   "source": [
    "# Likelihood sampling\n",
    "print(infer.get_distribution(inference.likelihood_weighted_sample( size=80), [\"diagnosis\"], joint=True))\n",
    "# Rejection sampling\n",
    "print(infer.get_distribution(inference.rejection_sample( size=80), [\"diagnosis\"]))"
   ]
  },
  {
   "cell_type": "markdown",
   "metadata": {},
   "source": [
    "### Conclusion\n",
    "\n",
    "In this final part we will focus on the dataset, trying to extract interesting information from it.\n",
    "\n",
    "And so the goal will be to investigate the causes of male infertility."
   ]
  },
  {
   "cell_type": "code",
   "execution_count": 37,
   "metadata": {},
   "outputs": [
    {
     "name": "stdout",
     "output_type": "stream",
     "text": [
      "\n",
      "Number of Normal and Altered diagnosis:\n"
     ]
    },
    {
     "data": {
      "application/vnd.jupyter.widget-view+json": {
       "model_id": "397077c0dc704e56a766f29ad0095401",
       "version_major": 2,
       "version_minor": 0
      },
      "text/plain": [
       "  0%|          | 0/5 [00:00<?, ?it/s]"
      ]
     },
     "metadata": {},
     "output_type": "display_data"
    },
    {
     "data": {
      "application/vnd.jupyter.widget-view+json": {
       "model_id": "54816b72e03343afb356f1a6ff82062f",
       "version_major": 2,
       "version_minor": 0
      },
      "text/plain": [
       "  0%|          | 0/5 [00:00<?, ?it/s]"
      ]
     },
     "metadata": {},
     "output_type": "display_data"
    },
    {
     "name": "stdout",
     "output_type": "stream",
     "text": [
      "+--------------+------------------+\n",
      "| diagnosis    |   phi(diagnosis) |\n",
      "+==============+==================+\n",
      "| diagnosis(N) |           0.6946 |\n",
      "+--------------+------------------+\n",
      "| diagnosis(O) |           0.3054 |\n",
      "+--------------+------------------+\n"
     ]
    }
   ],
   "source": [
    "infer = VariableElimination(model)\n",
    "\n",
    "print(\"\\nNumber of Normal and Altered diagnosis:\")\n",
    "print(infer.query([\"diagnosis\"]))"
   ]
  },
  {
   "cell_type": "markdown",
   "metadata": {},
   "source": [
    "The dataset is unbalanced towards the probability of having a normal diagnosis."
   ]
  },
  {
   "cell_type": "markdown",
   "metadata": {},
   "source": [
    "### Queries on controllable factors:"
   ]
  },
  {
   "cell_type": "code",
   "execution_count": 38,
   "metadata": {},
   "outputs": [
    {
     "name": "stdout",
     "output_type": "stream",
     "text": [
      "Probability of an altered or normal diagnosis given the hours spent sitting: 6-10\n"
     ]
    },
    {
     "data": {
      "application/vnd.jupyter.widget-view+json": {
       "model_id": "beac094ded2e4f8d89dedaab42cad5d4",
       "version_major": 2,
       "version_minor": 0
      },
      "text/plain": [
       "  0%|          | 0/4 [00:00<?, ?it/s]"
      ]
     },
     "metadata": {},
     "output_type": "display_data"
    },
    {
     "data": {
      "application/vnd.jupyter.widget-view+json": {
       "model_id": "39e303d4ef6842bb8f741f375ee1fedd",
       "version_major": 2,
       "version_minor": 0
      },
      "text/plain": [
       "  0%|          | 0/4 [00:00<?, ?it/s]"
      ]
     },
     "metadata": {},
     "output_type": "display_data"
    },
    {
     "name": "stdout",
     "output_type": "stream",
     "text": [
      "+--------------+------------------+\n",
      "| diagnosis    |   phi(diagnosis) |\n",
      "+==============+==================+\n",
      "| diagnosis(N) |           0.6323 |\n",
      "+--------------+------------------+\n",
      "| diagnosis(O) |           0.3677 |\n",
      "+--------------+------------------+\n",
      "Probability of an altered or normal diagnosis given the hours spent sitting: 0-5\n"
     ]
    },
    {
     "data": {
      "application/vnd.jupyter.widget-view+json": {
       "model_id": "92ea0f085ef04c96aaf7a2723364de97",
       "version_major": 2,
       "version_minor": 0
      },
      "text/plain": [
       "  0%|          | 0/4 [00:00<?, ?it/s]"
      ]
     },
     "metadata": {},
     "output_type": "display_data"
    },
    {
     "data": {
      "application/vnd.jupyter.widget-view+json": {
       "model_id": "4d88d75c05234c34bb05abedc6df8af9",
       "version_major": 2,
       "version_minor": 0
      },
      "text/plain": [
       "  0%|          | 0/4 [00:00<?, ?it/s]"
      ]
     },
     "metadata": {},
     "output_type": "display_data"
    },
    {
     "name": "stdout",
     "output_type": "stream",
     "text": [
      "+--------------+------------------+\n",
      "| diagnosis    |   phi(diagnosis) |\n",
      "+==============+==================+\n",
      "| diagnosis(N) |           0.7952 |\n",
      "+--------------+------------------+\n",
      "| diagnosis(O) |           0.2048 |\n",
      "+--------------+------------------+\n",
      "Probability of an altered or normal diagnosis given the hours spent sitting: 11-16\n"
     ]
    },
    {
     "data": {
      "application/vnd.jupyter.widget-view+json": {
       "model_id": "b672079d5d674547a2e64e638af4b1e4",
       "version_major": 2,
       "version_minor": 0
      },
      "text/plain": [
       "  0%|          | 0/4 [00:00<?, ?it/s]"
      ]
     },
     "metadata": {},
     "output_type": "display_data"
    },
    {
     "data": {
      "application/vnd.jupyter.widget-view+json": {
       "model_id": "67274cb511fd4b7c9850dbac13bbdd2a",
       "version_major": 2,
       "version_minor": 0
      },
      "text/plain": [
       "  0%|          | 0/4 [00:00<?, ?it/s]"
      ]
     },
     "metadata": {},
     "output_type": "display_data"
    },
    {
     "name": "stdout",
     "output_type": "stream",
     "text": [
      "+--------------+------------------+\n",
      "| diagnosis    |   phi(diagnosis) |\n",
      "+==============+==================+\n",
      "| diagnosis(N) |           0.5662 |\n",
      "+--------------+------------------+\n",
      "| diagnosis(O) |           0.4338 |\n",
      "+--------------+------------------+\n"
     ]
    }
   ],
   "source": [
    "for pla in (list(df[\"hours spent sitting\"].value_counts().index)):\n",
    "  print(\"Probability of an altered or normal diagnosis given the hours spent sitting:\",pla)\n",
    "  print(infer.query([\"diagnosis\"], evidence={\"hours spent sitting\":pla}))"
   ]
  },
  {
   "cell_type": "markdown",
   "metadata": {},
   "source": [
    "With this query we can perfectly understand how sedentary life is responsible for the increase in infertility in men. \n",
    "Among our samples it appears that those who sit for more than 5 hours a day have a very low probability of being infertile, while increasing the amount of hours this probability increases, for example, those who sit for 5 to 10 hours a day increase the probability by 16.3%. While those who stay from 11 to 16 hours increase the probability by about 23%."
   ]
  },
  {
   "cell_type": "markdown",
   "metadata": {},
   "source": [
    "##### The one with major impact:"
   ]
  },
  {
   "cell_type": "code",
   "execution_count": 39,
   "metadata": {},
   "outputs": [
    {
     "name": "stdout",
     "output_type": "stream",
     "text": [
      "Probability of an altered or normal diagnosis given the frequency of alcohol consumption: 1.0 \n"
     ]
    },
    {
     "data": {
      "application/vnd.jupyter.widget-view+json": {
       "model_id": "56e4b9805f364afea23a8639d3379f2b",
       "version_major": 2,
       "version_minor": 0
      },
      "text/plain": [
       "  0%|          | 0/4 [00:00<?, ?it/s]"
      ]
     },
     "metadata": {},
     "output_type": "display_data"
    },
    {
     "data": {
      "application/vnd.jupyter.widget-view+json": {
       "model_id": "7e7cf7701b324333b755aeba61d065f2",
       "version_major": 2,
       "version_minor": 0
      },
      "text/plain": [
       "  0%|          | 0/4 [00:00<?, ?it/s]"
      ]
     },
     "metadata": {},
     "output_type": "display_data"
    },
    {
     "name": "stdout",
     "output_type": "stream",
     "text": [
      "+--------------+------------------+\n",
      "| diagnosis    |   phi(diagnosis) |\n",
      "+==============+==================+\n",
      "| diagnosis(N) |           0.7901 |\n",
      "+--------------+------------------+\n",
      "| diagnosis(O) |           0.2099 |\n",
      "+--------------+------------------+\n",
      "Probability of an altered or normal diagnosis given the frequency of alcohol consumption: 0.8 \n"
     ]
    },
    {
     "data": {
      "application/vnd.jupyter.widget-view+json": {
       "model_id": "7d689c337d55499cb4ef2edf35c0071d",
       "version_major": 2,
       "version_minor": 0
      },
      "text/plain": [
       "  0%|          | 0/4 [00:00<?, ?it/s]"
      ]
     },
     "metadata": {},
     "output_type": "display_data"
    },
    {
     "data": {
      "application/vnd.jupyter.widget-view+json": {
       "model_id": "fa66723b95a04362b2852f66e9fa4331",
       "version_major": 2,
       "version_minor": 0
      },
      "text/plain": [
       "  0%|          | 0/4 [00:00<?, ?it/s]"
      ]
     },
     "metadata": {},
     "output_type": "display_data"
    },
    {
     "name": "stdout",
     "output_type": "stream",
     "text": [
      "+--------------+------------------+\n",
      "| diagnosis    |   phi(diagnosis) |\n",
      "+==============+==================+\n",
      "| diagnosis(N) |           0.6510 |\n",
      "+--------------+------------------+\n",
      "| diagnosis(O) |           0.3490 |\n",
      "+--------------+------------------+\n",
      "Probability of an altered or normal diagnosis given the frequency of alcohol consumption: 0.6 \n"
     ]
    },
    {
     "data": {
      "application/vnd.jupyter.widget-view+json": {
       "model_id": "5c7e9d0a8bfd45688541a4605e9005b8",
       "version_major": 2,
       "version_minor": 0
      },
      "text/plain": [
       "  0%|          | 0/4 [00:00<?, ?it/s]"
      ]
     },
     "metadata": {},
     "output_type": "display_data"
    },
    {
     "data": {
      "application/vnd.jupyter.widget-view+json": {
       "model_id": "27747e9a87184e99948b620bf7e9c29d",
       "version_major": 2,
       "version_minor": 0
      },
      "text/plain": [
       "  0%|          | 0/4 [00:00<?, ?it/s]"
      ]
     },
     "metadata": {},
     "output_type": "display_data"
    },
    {
     "name": "stdout",
     "output_type": "stream",
     "text": [
      "+--------------+------------------+\n",
      "| diagnosis    |   phi(diagnosis) |\n",
      "+==============+==================+\n",
      "| diagnosis(N) |           0.6189 |\n",
      "+--------------+------------------+\n",
      "| diagnosis(O) |           0.3811 |\n",
      "+--------------+------------------+\n",
      "Probability of an altered or normal diagnosis given the frequency of alcohol consumption: 0.2 \n"
     ]
    },
    {
     "data": {
      "application/vnd.jupyter.widget-view+json": {
       "model_id": "2a203b98237e46bdae54990b6dc30902",
       "version_major": 2,
       "version_minor": 0
      },
      "text/plain": [
       "  0%|          | 0/4 [00:00<?, ?it/s]"
      ]
     },
     "metadata": {},
     "output_type": "display_data"
    },
    {
     "data": {
      "application/vnd.jupyter.widget-view+json": {
       "model_id": "c91c5b03294f4871b4bca434033b8c1b",
       "version_major": 2,
       "version_minor": 0
      },
      "text/plain": [
       "  0%|          | 0/4 [00:00<?, ?it/s]"
      ]
     },
     "metadata": {},
     "output_type": "display_data"
    },
    {
     "name": "stdout",
     "output_type": "stream",
     "text": [
      "+--------------+------------------+\n",
      "| diagnosis    |   phi(diagnosis) |\n",
      "+==============+==================+\n",
      "| diagnosis(N) |           0.5443 |\n",
      "+--------------+------------------+\n",
      "| diagnosis(O) |           0.4557 |\n",
      "+--------------+------------------+\n",
      "Probability of an altered or normal diagnosis given the frequency of alcohol consumption: 0.4 \n"
     ]
    },
    {
     "data": {
      "application/vnd.jupyter.widget-view+json": {
       "model_id": "bf53729b87cf4053b9e0eb0b9e7ecaab",
       "version_major": 2,
       "version_minor": 0
      },
      "text/plain": [
       "  0%|          | 0/4 [00:00<?, ?it/s]"
      ]
     },
     "metadata": {},
     "output_type": "display_data"
    },
    {
     "data": {
      "application/vnd.jupyter.widget-view+json": {
       "model_id": "730b670996b24fbdbba2bb124d50d94b",
       "version_major": 2,
       "version_minor": 0
      },
      "text/plain": [
       "  0%|          | 0/4 [00:00<?, ?it/s]"
      ]
     },
     "metadata": {},
     "output_type": "display_data"
    },
    {
     "name": "stdout",
     "output_type": "stream",
     "text": [
      "+--------------+------------------+\n",
      "| diagnosis    |   phi(diagnosis) |\n",
      "+==============+==================+\n",
      "| diagnosis(N) |           0.5142 |\n",
      "+--------------+------------------+\n",
      "| diagnosis(O) |           0.4858 |\n",
      "+--------------+------------------+\n"
     ]
    }
   ],
   "source": [
    "for gen in (list(df[\"frequency of alcohol consumption\"].value_counts().index)):\n",
    "    print(\"Probability of an altered or normal diagnosis given the frequency of alcohol consumption: {} \".format(gen))\n",
    "    print(infer.query([\"diagnosis\"], evidence={\"frequency of alcohol consumption\":gen}))"
   ]
  },
  {
   "cell_type": "markdown",
   "metadata": {},
   "source": [
    "Alcohol is the factor that most affects male infertility, in fact, as we see, those who use alcohol several times a day even have a 49% chance of being infertile."
   ]
  },
  {
   "cell_type": "markdown",
   "metadata": {},
   "source": [
    "##### The one with the minor impact:"
   ]
  },
  {
   "cell_type": "code",
   "execution_count": 40,
   "metadata": {},
   "outputs": [
    {
     "name": "stdout",
     "output_type": "stream",
     "text": [
      "Probability of an altered or normal diagnosis of a habitual smoker: -1 \n"
     ]
    },
    {
     "data": {
      "application/vnd.jupyter.widget-view+json": {
       "model_id": "f1d8c4c3ac2c44a69e403d3de574bf67",
       "version_major": 2,
       "version_minor": 0
      },
      "text/plain": [
       "  0%|          | 0/4 [00:00<?, ?it/s]"
      ]
     },
     "metadata": {},
     "output_type": "display_data"
    },
    {
     "data": {
      "application/vnd.jupyter.widget-view+json": {
       "model_id": "8ea16ba6f0604c38836bd96cdcb74493",
       "version_major": 2,
       "version_minor": 0
      },
      "text/plain": [
       "  0%|          | 0/4 [00:00<?, ?it/s]"
      ]
     },
     "metadata": {},
     "output_type": "display_data"
    },
    {
     "name": "stdout",
     "output_type": "stream",
     "text": [
      "+--------------+------------------+\n",
      "| diagnosis    |   phi(diagnosis) |\n",
      "+==============+==================+\n",
      "| diagnosis(N) |           0.7103 |\n",
      "+--------------+------------------+\n",
      "| diagnosis(O) |           0.2897 |\n",
      "+--------------+------------------+\n",
      "Probability of an altered or normal diagnosis of a habitual smoker: 0 \n"
     ]
    },
    {
     "data": {
      "application/vnd.jupyter.widget-view+json": {
       "model_id": "8b1636f59c934c218a9f9cd787c5af9a",
       "version_major": 2,
       "version_minor": 0
      },
      "text/plain": [
       "  0%|          | 0/4 [00:00<?, ?it/s]"
      ]
     },
     "metadata": {},
     "output_type": "display_data"
    },
    {
     "data": {
      "application/vnd.jupyter.widget-view+json": {
       "model_id": "9fd66939a8f147efa3f689c6cee4175d",
       "version_major": 2,
       "version_minor": 0
      },
      "text/plain": [
       "  0%|          | 0/4 [00:00<?, ?it/s]"
      ]
     },
     "metadata": {},
     "output_type": "display_data"
    },
    {
     "name": "stdout",
     "output_type": "stream",
     "text": [
      "+--------------+------------------+\n",
      "| diagnosis    |   phi(diagnosis) |\n",
      "+==============+==================+\n",
      "| diagnosis(N) |           0.6805 |\n",
      "+--------------+------------------+\n",
      "| diagnosis(O) |           0.3195 |\n",
      "+--------------+------------------+\n",
      "Probability of an altered or normal diagnosis of a habitual smoker: 1 \n"
     ]
    },
    {
     "data": {
      "application/vnd.jupyter.widget-view+json": {
       "model_id": "2b608071a4e9439fa7488a36a39d3918",
       "version_major": 2,
       "version_minor": 0
      },
      "text/plain": [
       "  0%|          | 0/4 [00:00<?, ?it/s]"
      ]
     },
     "metadata": {},
     "output_type": "display_data"
    },
    {
     "data": {
      "application/vnd.jupyter.widget-view+json": {
       "model_id": "651ab8c92ec64771851b3c3eeab02fb1",
       "version_major": 2,
       "version_minor": 0
      },
      "text/plain": [
       "  0%|          | 0/4 [00:00<?, ?it/s]"
      ]
     },
     "metadata": {},
     "output_type": "display_data"
    },
    {
     "name": "stdout",
     "output_type": "stream",
     "text": [
      "+--------------+------------------+\n",
      "| diagnosis    |   phi(diagnosis) |\n",
      "+==============+==================+\n",
      "| diagnosis(N) |           0.6698 |\n",
      "+--------------+------------------+\n",
      "| diagnosis(O) |           0.3302 |\n",
      "+--------------+------------------+\n"
     ]
    }
   ],
   "source": [
    "for gen in (list(df[\"smoking habit\"].value_counts().index)):\n",
    "    print(\"Probability of an altered or normal diagnosis of a habitual smoker: {} \".format(gen))\n",
    "    print(infer.query([\"diagnosis\"], evidence={\"smoking habit\":gen}))"
   ]
  },
  {
   "cell_type": "markdown",
   "metadata": {},
   "source": [
    "Smoking of all the factors considered is the one that has the least impact.\n",
    "\n",
    "Obviously there is a difference between non-smokers, occasional smokers and habitual smokers, in fact the latter have about 33% probability, while the former have 29%."
   ]
  },
  {
   "cell_type": "markdown",
   "metadata": {},
   "source": [
    "### Joint Probability"
   ]
  },
  {
   "cell_type": "code",
   "execution_count": 41,
   "metadata": {},
   "outputs": [
    {
     "data": {
      "application/vnd.jupyter.widget-view+json": {
       "model_id": "aff4ea378e8e43b1ba2510e71b3def40",
       "version_major": 2,
       "version_minor": 0
      },
      "text/plain": [
       "  0%|          | 0/3 [00:00<?, ?it/s]"
      ]
     },
     "metadata": {},
     "output_type": "display_data"
    },
    {
     "data": {
      "application/vnd.jupyter.widget-view+json": {
       "model_id": "6ccea40bd4044135994c0088f64de4b1",
       "version_major": 2,
       "version_minor": 0
      },
      "text/plain": [
       "  0%|          | 0/3 [00:00<?, ?it/s]"
      ]
     },
     "metadata": {},
     "output_type": "display_data"
    },
    {
     "name": "stdout",
     "output_type": "stream",
     "text": [
      "+--------------+------------------+\n",
      "| diagnosis    |   phi(diagnosis) |\n",
      "+==============+==================+\n",
      "| diagnosis(N) |           0.8366 |\n",
      "+--------------+------------------+\n",
      "| diagnosis(O) |           0.1634 |\n",
      "+--------------+------------------+\n"
     ]
    }
   ],
   "source": [
    "print(infer.query([\"diagnosis\"], evidence={\"frequency of alcohol consumption\": 1, \"high fevers\":1}))"
   ]
  },
  {
   "cell_type": "markdown",
   "metadata": {},
   "source": [
    "The two most important factors that influence the probability of not being fertile are alcohol consmption and high fevers.\n",
    "The joint absence of both these conditions determines a very low probability increase of not being fertile with respect to the presence of both."
   ]
  },
  {
   "cell_type": "markdown",
   "metadata": {},
   "source": [
    "### Queries on uncontrollable factors:"
   ]
  },
  {
   "cell_type": "code",
   "execution_count": 42,
   "metadata": {},
   "outputs": [
    {
     "name": "stdout",
     "output_type": "stream",
     "text": [
      "Probability of an altered or normal diagnosis at differents eges 18-24 \n"
     ]
    },
    {
     "data": {
      "application/vnd.jupyter.widget-view+json": {
       "model_id": "043f8af41a014be78b1fbd600386e2c3",
       "version_major": 2,
       "version_minor": 0
      },
      "text/plain": [
       "  0%|          | 0/4 [00:00<?, ?it/s]"
      ]
     },
     "metadata": {},
     "output_type": "display_data"
    },
    {
     "data": {
      "application/vnd.jupyter.widget-view+json": {
       "model_id": "5afe38eb8c1e40ecafba706a703d03f3",
       "version_major": 2,
       "version_minor": 0
      },
      "text/plain": [
       "  0%|          | 0/4 [00:00<?, ?it/s]"
      ]
     },
     "metadata": {},
     "output_type": "display_data"
    },
    {
     "name": "stdout",
     "output_type": "stream",
     "text": [
      "+--------------+------------------+\n",
      "| diagnosis    |   phi(diagnosis) |\n",
      "+==============+==================+\n",
      "| diagnosis(N) |           0.7116 |\n",
      "+--------------+------------------+\n",
      "| diagnosis(O) |           0.2884 |\n",
      "+--------------+------------------+\n",
      "Probability of an altered or normal diagnosis at differents eges 25-30 \n"
     ]
    },
    {
     "data": {
      "application/vnd.jupyter.widget-view+json": {
       "model_id": "b307d5a1af514c2088b24f46f3b5c3dc",
       "version_major": 2,
       "version_minor": 0
      },
      "text/plain": [
       "  0%|          | 0/4 [00:00<?, ?it/s]"
      ]
     },
     "metadata": {},
     "output_type": "display_data"
    },
    {
     "data": {
      "application/vnd.jupyter.widget-view+json": {
       "model_id": "8ea34a10cf3e4244bc838594c7ac4df1",
       "version_major": 2,
       "version_minor": 0
      },
      "text/plain": [
       "  0%|          | 0/4 [00:00<?, ?it/s]"
      ]
     },
     "metadata": {},
     "output_type": "display_data"
    },
    {
     "name": "stdout",
     "output_type": "stream",
     "text": [
      "+--------------+------------------+\n",
      "| diagnosis    |   phi(diagnosis) |\n",
      "+==============+==================+\n",
      "| diagnosis(N) |           0.6852 |\n",
      "+--------------+------------------+\n",
      "| diagnosis(O) |           0.3148 |\n",
      "+--------------+------------------+\n",
      "Probability of an altered or normal diagnosis at differents eges 31-36 \n"
     ]
    },
    {
     "data": {
      "application/vnd.jupyter.widget-view+json": {
       "model_id": "d69cd3bca0564b1392e15a8810bbc17e",
       "version_major": 2,
       "version_minor": 0
      },
      "text/plain": [
       "  0%|          | 0/4 [00:00<?, ?it/s]"
      ]
     },
     "metadata": {},
     "output_type": "display_data"
    },
    {
     "data": {
      "application/vnd.jupyter.widget-view+json": {
       "model_id": "91201fac53e146c4b6d25b6f57671127",
       "version_major": 2,
       "version_minor": 0
      },
      "text/plain": [
       "  0%|          | 0/4 [00:00<?, ?it/s]"
      ]
     },
     "metadata": {},
     "output_type": "display_data"
    },
    {
     "name": "stdout",
     "output_type": "stream",
     "text": [
      "+--------------+------------------+\n",
      "| diagnosis    |   phi(diagnosis) |\n",
      "+==============+==================+\n",
      "| diagnosis(N) |           0.5894 |\n",
      "+--------------+------------------+\n",
      "| diagnosis(O) |           0.4106 |\n",
      "+--------------+------------------+\n"
     ]
    }
   ],
   "source": [
    "for gen in (list(df[\"age\"].value_counts().index)):\n",
    "    print(\"Probability of an altered or normal diagnosis at differents eges {} \".format(gen))\n",
    "    print(infer.query([\"diagnosis\"], evidence={\"age\":gen}))"
   ]
  },
  {
   "cell_type": "code",
   "execution_count": 43,
   "metadata": {},
   "outputs": [
    {
     "name": "stdout",
     "output_type": "stream",
     "text": [
      "Probability of an altered or normal diagnosis with recent or not fevers 0 \n"
     ]
    },
    {
     "data": {
      "application/vnd.jupyter.widget-view+json": {
       "model_id": "b4c917f697254f83846300d8c1b0ccaa",
       "version_major": 2,
       "version_minor": 0
      },
      "text/plain": [
       "  0%|          | 0/4 [00:00<?, ?it/s]"
      ]
     },
     "metadata": {},
     "output_type": "display_data"
    },
    {
     "data": {
      "application/vnd.jupyter.widget-view+json": {
       "model_id": "8d1bdb00c2a149e5b3c55b68a48f4374",
       "version_major": 2,
       "version_minor": 0
      },
      "text/plain": [
       "  0%|          | 0/4 [00:00<?, ?it/s]"
      ]
     },
     "metadata": {},
     "output_type": "display_data"
    },
    {
     "name": "stdout",
     "output_type": "stream",
     "text": [
      "+--------------+------------------+\n",
      "| diagnosis    |   phi(diagnosis) |\n",
      "+==============+==================+\n",
      "| diagnosis(N) |           0.6822 |\n",
      "+--------------+------------------+\n",
      "| diagnosis(O) |           0.3178 |\n",
      "+--------------+------------------+\n",
      "Probability of an altered or normal diagnosis with recent or not fevers 1 \n"
     ]
    },
    {
     "data": {
      "application/vnd.jupyter.widget-view+json": {
       "model_id": "cae417a28e3f4fc895861f2a08987a2b",
       "version_major": 2,
       "version_minor": 0
      },
      "text/plain": [
       "  0%|          | 0/4 [00:00<?, ?it/s]"
      ]
     },
     "metadata": {},
     "output_type": "display_data"
    },
    {
     "data": {
      "application/vnd.jupyter.widget-view+json": {
       "model_id": "e2547ed4609747f99ce3d8557ffa7da4",
       "version_major": 2,
       "version_minor": 0
      },
      "text/plain": [
       "  0%|          | 0/4 [00:00<?, ?it/s]"
      ]
     },
     "metadata": {},
     "output_type": "display_data"
    },
    {
     "name": "stdout",
     "output_type": "stream",
     "text": [
      "+--------------+------------------+\n",
      "| diagnosis    |   phi(diagnosis) |\n",
      "+==============+==================+\n",
      "| diagnosis(N) |           0.7779 |\n",
      "+--------------+------------------+\n",
      "| diagnosis(O) |           0.2221 |\n",
      "+--------------+------------------+\n",
      "Probability of an altered or normal diagnosis with recent or not fevers -1 \n"
     ]
    },
    {
     "data": {
      "application/vnd.jupyter.widget-view+json": {
       "model_id": "ecaefaa00c104b8382faf6b4dfd1345b",
       "version_major": 2,
       "version_minor": 0
      },
      "text/plain": [
       "  0%|          | 0/4 [00:00<?, ?it/s]"
      ]
     },
     "metadata": {},
     "output_type": "display_data"
    },
    {
     "data": {
      "application/vnd.jupyter.widget-view+json": {
       "model_id": "927fb8ca7b2440a59114f8b429d0e357",
       "version_major": 2,
       "version_minor": 0
      },
      "text/plain": [
       "  0%|          | 0/4 [00:00<?, ?it/s]"
      ]
     },
     "metadata": {},
     "output_type": "display_data"
    },
    {
     "name": "stdout",
     "output_type": "stream",
     "text": [
      "+--------------+------------------+\n",
      "| diagnosis    |   phi(diagnosis) |\n",
      "+==============+==================+\n",
      "| diagnosis(N) |           0.5379 |\n",
      "+--------------+------------------+\n",
      "| diagnosis(O) |           0.4621 |\n",
      "+--------------+------------------+\n"
     ]
    }
   ],
   "source": [
    "for gen in (list(df[\"high fevers\"].value_counts().index)):\n",
    "    print(\"Probability of an altered or normal diagnosis with recent or not fevers {} \".format(gen))\n",
    "    print(infer.query([\"diagnosis\"], evidence={\"high fevers\":gen}))"
   ]
  },
  {
   "cell_type": "markdown",
   "metadata": {},
   "source": [
    "These queries deal with factors that are unfortunately not controllable such as age or not very controllable such as the onset of a fever.\n",
    "As we see age is a factor that greatly affects the fertility of an individual, there are about 41% of infertile samples among individuals ranging from 31 to 36.\n",
    "Fever also affects a lot and in particular to individuals who have had it for less than three months up to 46%."
   ]
  },
  {
   "cell_type": "code",
   "execution_count": 44,
   "metadata": {},
   "outputs": [],
   "source": [
    "d = dict(zip(list(df['diagnosis'].unique()),list(df['diagnosis'].unique())))\n",
    "smoking_habit['N'] = 0\n",
    "smoking_habit['O'] = 1\n",
    "df['diagnosis'] = df['diagnosis'].map(smoking_habit)"
   ]
  },
  {
   "cell_type": "code",
   "execution_count": 45,
   "metadata": {},
   "outputs": [
    {
     "data": {
      "text/html": [
       "<div>\n",
       "<style scoped>\n",
       "    .dataframe tbody tr th:only-of-type {\n",
       "        vertical-align: middle;\n",
       "    }\n",
       "\n",
       "    .dataframe tbody tr th {\n",
       "        vertical-align: top;\n",
       "    }\n",
       "\n",
       "    .dataframe thead th {\n",
       "        text-align: right;\n",
       "    }\n",
       "</style>\n",
       "<table border=\"1\" class=\"dataframe\">\n",
       "  <thead>\n",
       "    <tr style=\"text-align: right;\">\n",
       "      <th></th>\n",
       "      <th>age</th>\n",
       "      <th>high fevers</th>\n",
       "      <th>frequency of alcohol consumption</th>\n",
       "      <th>smoking habit</th>\n",
       "      <th>hours spent sitting</th>\n",
       "      <th>diagnosis</th>\n",
       "    </tr>\n",
       "  </thead>\n",
       "  <tbody>\n",
       "    <tr>\n",
       "      <th>0</th>\n",
       "      <td>18-24</td>\n",
       "      <td>0</td>\n",
       "      <td>0.8</td>\n",
       "      <td>0</td>\n",
       "      <td>11-16</td>\n",
       "      <td>0</td>\n",
       "    </tr>\n",
       "    <tr>\n",
       "      <th>1</th>\n",
       "      <td>31-36</td>\n",
       "      <td>0</td>\n",
       "      <td>0.8</td>\n",
       "      <td>1</td>\n",
       "      <td>0-5</td>\n",
       "      <td>1</td>\n",
       "    </tr>\n",
       "    <tr>\n",
       "      <th>2</th>\n",
       "      <td>18-24</td>\n",
       "      <td>0</td>\n",
       "      <td>1.0</td>\n",
       "      <td>-1</td>\n",
       "      <td>6-10</td>\n",
       "      <td>0</td>\n",
       "    </tr>\n",
       "    <tr>\n",
       "      <th>3</th>\n",
       "      <td>25-30</td>\n",
       "      <td>0</td>\n",
       "      <td>1.0</td>\n",
       "      <td>-1</td>\n",
       "      <td>6-10</td>\n",
       "      <td>0</td>\n",
       "    </tr>\n",
       "    <tr>\n",
       "      <th>4</th>\n",
       "      <td>18-24</td>\n",
       "      <td>0</td>\n",
       "      <td>0.8</td>\n",
       "      <td>-1</td>\n",
       "      <td>6-10</td>\n",
       "      <td>1</td>\n",
       "    </tr>\n",
       "  </tbody>\n",
       "</table>\n",
       "</div>"
      ],
      "text/plain": [
       "     age  high fevers  frequency of alcohol consumption  smoking habit  \\\n",
       "0  18-24            0                               0.8              0   \n",
       "1  31-36            0                               0.8              1   \n",
       "2  18-24            0                               1.0             -1   \n",
       "3  25-30            0                               1.0             -1   \n",
       "4  18-24            0                               0.8             -1   \n",
       "\n",
       "  hours spent sitting  diagnosis  \n",
       "0               11-16          0  \n",
       "1                 0-5          1  \n",
       "2                6-10          0  \n",
       "3                6-10          0  \n",
       "4                6-10          1  "
      ]
     },
     "execution_count": 45,
     "metadata": {},
     "output_type": "execute_result"
    }
   ],
   "source": [
    "df.head()"
   ]
  },
  {
   "cell_type": "code",
   "execution_count": 52,
   "metadata": {},
   "outputs": [],
   "source": [
    "attributes = ['age', 'high fevers', 'frequency of alcohol consumption', 'smoking habit', 'hours spent sitting']\n",
    "fixed_edges = [(attribute, 'diagnosis') for attribute in attributes]\n",
    "from pgmpy.estimators import HillClimbSearch, K2Score, BicScore, BDeuScore, MaximumLikelihoodEstimator"
   ]
  },
  {
   "cell_type": "code",
   "execution_count": 53,
   "metadata": {},
   "outputs": [
    {
     "data": {
      "application/vnd.jupyter.widget-view+json": {
       "model_id": "def205682ebd44518531dbee50f9bd8b",
       "version_major": 2,
       "version_minor": 0
      },
      "text/plain": [
       "  0%|          | 0/1000000 [00:00<?, ?it/s]"
      ]
     },
     "metadata": {},
     "output_type": "display_data"
    },
    {
     "data": {
      "text/plain": [
       "OutEdgeView([('age', 'diagnosis'), ('age', 'smoking habit'), ('age', 'hours spent sitting'), ('high fevers', 'diagnosis'), ('frequency of alcohol consumption', 'diagnosis'), ('frequency of alcohol consumption', 'smoking habit'), ('frequency of alcohol consumption', 'age'), ('smoking habit', 'diagnosis'), ('hours spent sitting', 'diagnosis'), ('hours spent sitting', 'smoking habit')])"
      ]
     },
     "execution_count": 53,
     "metadata": {},
     "output_type": "execute_result"
    }
   ],
   "source": [
    "#learning the stucutre of the network\n",
    "est = HillClimbSearch(df, use_cache=False)\n",
    "best_model = est.estimate(scoring_method=K2Score(df), fixed_edges = fixed_edges)\n",
    "best_model.edges"
   ]
  },
  {
   "cell_type": "code",
   "execution_count": 55,
   "metadata": {},
   "outputs": [
    {
     "data": {
      "image/png": "[encoded data removed]",
      "text/plain": [
       "<Figure size 1080x720 with 1 Axes>"
      ]
     },
     "metadata": {},
     "output_type": "display_data"
    }
   ],
   "source": [
    "edges = list(best_model.edges())\n",
    "model = BayesianNetwork(edges)\n",
    "%matplotlib inline\n",
    "plt.figure(figsize=(15,10))\n",
    "\n",
    "# nx.draw(model, with_labels=True)\n",
    "nx.draw(model, pos= nx.spring_layout(model, seed = 13), with_labels=True, node_size=5000, node_color=\"red\", width = 4, font_size = 15)\n",
    "plt.show()"
   ]
  }
 ],
 "metadata": {
  "kernelspec": {
   "display_name": "Python 3.9.13 64-bit (windows store)",
   "language": "python",
   "name": "python3"
  },
  "language_info": {
   "codemirror_mode": {
    "name": "ipython",
    "version": 3
   },
   "file_extension": ".py",
   "mimetype": "text/x-python",
   "name": "python",
   "nbconvert_exporter": "python",
   "pygments_lexer": "ipython3",
   "version": "3.9.13"
  },
  "orig_nbformat": 4,
  "vscode": {
   "interpreter": {
    "hash": "9bae79024b29d427d388221b5021f07fb422bb42527146822e528915fa126e0f"
   }
  }
 },
 "nbformat": 4,
 "nbformat_minor": 2
}
